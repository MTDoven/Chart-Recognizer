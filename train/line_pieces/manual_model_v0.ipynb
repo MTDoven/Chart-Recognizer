{
 "cells": [
  {
   "cell_type": "code",
   "execution_count": 1,
   "id": "d9c99cbc-3345-4331-b4a6-6a18e51cdb02",
   "metadata": {
    "tags": []
   },
   "outputs": [],
   "source": [
    "import os\n",
    "from PIL import Image\n",
    "import numpy as np\n",
    "import cv2"
   ]
  },
  {
   "cell_type": "code",
   "execution_count": 2,
   "id": "4deba51f-b81e-40fd-8cd7-4b63b2d346b5",
   "metadata": {
    "tags": []
   },
   "outputs": [],
   "source": [
    "_,_,image_list = next(os.walk(\"./images\"))\n",
    "image_list = image_list[:10000]"
   ]
  },
  {
   "cell_type": "code",
   "execution_count": 16,
   "id": "71c1d781-e1fd-4c2b-988c-943e885cb74e",
   "metadata": {
    "tags": []
   },
   "outputs": [],
   "source": [
    "# Model_dot\n",
    "count = 0\n",
    "\n",
    "for img_name in image_list:\n",
    "    \n",
    "    img_input = Image.open('./images/'+img_name)\n",
    "    label = float(img_name.split('_')[1][:-4])\n",
    "\n",
    "    img = img_input.convert(\"L\")\n",
    "    img = np.asarray(img)\n",
    "    img = img[5:-5][6:-6]\n",
    "    img = cv2.bilateralFilter(img,9,50,30)\n",
    "    feature = img.mean(axis=1)\n",
    "    bound = (np.max(feature)+np.min(feature))/2\n",
    "    \n",
    "    _count = 0\n",
    "    percentage = 0\n",
    "    for i in range(len(feature)-1):\n",
    "        if _count == 2: break\n",
    "        if (feature[i]-bound)*(feature[i+1]-bound)<=0:\n",
    "            percentage += (i+i+1)/2\n",
    "            _count += 1\n",
    "            \n",
    "    percentage = 1-(percentage/2+5)/(len(feature)+10)\n",
    "    if abs(pos-label)<0.05:\n",
    "        count+=1\n",
    "        # cv2.imshow('image',img)\n",
    "        # cv2.waitKey(0)\n",
    "    # else:\n",
    "    #     print(img_name)\n",
    "\n",
    "    \n",
    "\n",
    "#print(img_name)"
   ]
  },
  {
   "cell_type": "code",
   "execution_count": 17,
   "id": "7a206ba7-6602-4540-a0e8-9f5db872bac9",
   "metadata": {
    "tags": []
   },
   "outputs": [
    {
     "data": {
      "text/plain": [
       "(1057, 10000)"
      ]
     },
     "execution_count": 17,
     "metadata": {},
     "output_type": "execute_result"
    }
   ],
   "source": [
    "count, len(image_list)"
   ]
  },
  {
   "cell_type": "code",
   "execution_count": 18,
   "id": "49ce453c-0b37-4a90-bf63-4cd657a0e068",
   "metadata": {
    "tags": []
   },
   "outputs": [
    {
     "data": {
      "text/plain": [
       "(0.48374246286777906, 0.4568965517241379)"
      ]
     },
     "execution_count": 18,
     "metadata": {},
     "output_type": "execute_result"
    }
   ],
   "source": [
    "label, pos"
   ]
  },
  {
   "cell_type": "code",
   "execution_count": null,
   "id": "0dac256b-4129-401e-9dd0-66ac0b4a3c4d",
   "metadata": {
    "tags": []
   },
   "outputs": [],
   "source": [
    "summ/(len(image_list)-skip)"
   ]
  },
  {
   "cell_type": "code",
   "execution_count": 8,
   "id": "8014be58-8d4a-4d22-895d-09b82470098c",
   "metadata": {
    "tags": []
   },
   "outputs": [],
   "source": [
    "Image.open('./images/'+'0056667e465a_0.09288294747046572.jpg').show()"
   ]
  },
  {
   "cell_type": "code",
   "execution_count": 8,
   "id": "eca48ba0-85dd-432a-9eb3-27232cc62c9a",
   "metadata": {
    "tags": []
   },
   "outputs": [
    {
     "data": {
      "text/plain": [
       "<Axes: >"
      ]
     },
     "execution_count": 8,
     "metadata": {},
     "output_type": "execute_result"
    },
    {
     "data": {
      "image/png": "[encoded data removed]",
      "text/plain": [
       "<Figure size 640x480 with 1 Axes>"
      ]
     },
     "metadata": {},
     "output_type": "display_data"
    }
   ],
   "source": [
    "import seaborn as sn\n",
    "sn.lineplot(feature)"
   ]
  },
  {
   "cell_type": "code",
   "execution_count": null,
   "id": "8a441d06-2950-4477-982f-6bbc4ec91196",
   "metadata": {
    "tags": []
   },
   "outputs": [],
   "source": [
    "sn.scatterplot([per,labels])"
   ]
  },
  {
   "cell_type": "code",
   "execution_count": null,
   "id": "9dbef894-0d3b-436c-8ed5-8ad993af9b99",
   "metadata": {},
   "outputs": [],
   "source": []
  }
 ],
 "metadata": {
  "kernelspec": {
   "display_name": "Python 3 (ipykernel)",
   "language": "python",
   "name": "python3"
  },
  "language_info": {
   "codemirror_mode": {
    "name": "ipython",
    "version": 3
   },
   "file_extension": ".py",
   "mimetype": "text/x-python",
   "name": "python",
   "nbconvert_exporter": "python",
   "pygments_lexer": "ipython3",
   "version": "3.9.16"
  }
 },
 "nbformat": 4,
 "nbformat_minor": 5
}

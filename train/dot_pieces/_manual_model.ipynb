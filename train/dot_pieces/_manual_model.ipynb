{
 "cells": [
  {
   "cell_type": "code",
   "execution_count": 226,
   "id": "e8b48757-18bc-43e0-ae5e-7c5ac6e3ce96",
   "metadata": {
    "tags": []
   },
   "outputs": [],
   "source": [
    "import os\n",
    "import cv2\n",
    "import numpy as np\n",
    "from PIL import Image"
   ]
  },
  {
   "cell_type": "code",
   "execution_count": 227,
   "id": "91cd2bf1-9f7e-4bbd-b3cb-9577016d8758",
   "metadata": {},
   "outputs": [
    {
     "data": {
      "text/plain": [
       "5"
      ]
     },
     "execution_count": 227,
     "metadata": {},
     "output_type": "execute_result"
    }
   ],
   "source": [
    "image_path = './dataset/train/5/'\n",
    "_,_,image_list = next(os.walk(image_path))\n",
    "image_list.sort()\n",
    "\n",
    "img = Image.open(image_path+image_list[9])\n",
    "Model_dot(img)"
   ]
  },
  {
   "cell_type": "code",
   "execution_count": null,
   "id": "3fc784fa-b7ff-4e9e-8a07-57bcb6139238",
   "metadata": {},
   "outputs": [],
   "source": []
  },
  {
   "cell_type": "code",
   "execution_count": 228,
   "id": "f1e2545a-7e8e-427a-8ae4-8b4d1035594c",
   "metadata": {
    "tags": []
   },
   "outputs": [],
   "source": [
    "# Model_dot\n",
    "\n",
    "def Model_dot(img):\n",
    "    \"\"\"\n",
    "    输入：用PIL裁剪crop下来的图片，不必要转换成“灰度图”，图片大小大约是(16,150)\n",
    "    输出：图片中的点的个数，int类型\n",
    "    \"\"\"\n",
    "    count = 0\n",
    "    img = img.convert(\"L\")\n",
    "    img = np.asarray(img)\n",
    "    img = img[:-5][:] # To avoid edge problem\n",
    "    img = cv2.bilateralFilter(img,9,50,30)\n",
    "    if img.std()<10: return 0 # Nothing in the picture\n",
    "    img = (img-img.mean())/img.std()\n",
    "    feature = img.mean(axis=1)\n",
    "    if img.std()<0.02: return 0 # Nothing in the picture\n",
    "    bound = (np.max(feature)+np.min(feature))/2\n",
    "    if feature[0]<bound: count+=1 # All filled with dots\n",
    "    for i in range(len(feature)-1):\n",
    "        if (feature[i]-bound)*(feature[i+1]-bound)<=0:\n",
    "            count+=1 # An intersection point\n",
    "    return (count+1)//2"
   ]
  }
 ],
 "metadata": {
  "kernelspec": {
   "display_name": "Python 3 (ipykernel)",
   "language": "python",
   "name": "python3"
  },
  "language_info": {
   "codemirror_mode": {
    "name": "ipython",
    "version": 3
   },
   "file_extension": ".py",
   "mimetype": "text/x-python",
   "name": "python",
   "nbconvert_exporter": "python",
   "pygments_lexer": "ipython3",
   "version": "3.9.16"
  }
 },
 "nbformat": 4,
 "nbformat_minor": 5
}

{
 "cells": [
  {
   "cell_type": "code",
   "execution_count": 2,
   "id": "ed0a3539-4d72-441f-b343-67fcaa2d5f1d",
   "metadata": {
    "tags": []
   },
   "outputs": [],
   "source": [
    "import torch\n",
    "PATH_annotations = \"../../../input/benetech-making-graphs-accessible/train/annotations/\"\n",
    "PATH_images = \"../../../input/benetech-making-graphs-accessible/train/images/\"\n",
    "CHART_TYPE = {'vertical_bar':0,'horizontal_bar':1,'dot':2,'line':3,'scatter':4}\n",
    "DEVICE = torch.device(\"cuda\" if torch.cuda.is_available() else \"cpu\")\n",
    "BATCH_SIZE_ChartTypeClassify = 1\n",
    "LEARNING_RATE_ChartTypeClassify = 0.001\n",
    "\n",
    "import json, os\n",
    "_,_,annotation_list = next(os.walk(PATH_annotations))\n",
    "_,_,image_list = next(os.walk(PATH_images))\n",
    "annotation_list.sort()\n",
    "image_list.sort()\n",
    "annotation_list_train = annotation_list[:55000]\n",
    "annotation_list_test = annotation_list[55000:]\n",
    "image_list_train = image_list[:55000]\n",
    "image_list_test = image_list[55000:]"
   ]
  },
  {
   "cell_type": "code",
   "execution_count": 8,
   "id": "2836c72e-7b34-4b31-93b3-ec53c40e9da3",
   "metadata": {
    "tags": []
   },
   "outputs": [],
   "source": [
    "from PIL import Image\n",
    "from shutil import copy\n",
    "\n",
    "for idx in annotation_list:\n",
    "    \n",
    "    try:\n",
    "    \n",
    "        # read annotation message\n",
    "        with open(PATH_annotations+idx) as file:\n",
    "            this_annotation = json.loads(file.read())\n",
    "        if this_annotation['chart-type']!='dot':\n",
    "            continue\n",
    "        # get image message\n",
    "        img = Image.open(PATH_images+idx.split(\".\")[0]+\".jpg\")\n",
    "        # get xlist and ylist\n",
    "        x_list = [i['id'] for i in this_annotation['axes']['x-axis']['ticks']]\n",
    "        y_list = [i['id'] for i in this_annotation['axes']['y-axis']['ticks']]\n",
    "\n",
    "    # class, type, pos_of_whole_pic\n",
    "        plot_bb = this_annotation['plot-bb']\n",
    "        chart_x0 = plot_bb['x0']\n",
    "        chart_y0 = plot_bb['y0']\n",
    "        chart_x1 = plot_bb['x0']+plot_bb['width']\n",
    "        chart_y1 = plot_bb['y0']+plot_bb['height']\n",
    "        # main_chart = img.crop(box=(x0,y0,x1,y1))\n",
    "        # main_chart.show()\n",
    "\n",
    "    # tick_point\n",
    "        for i in this_annotation['axes']['x-axis']['ticks']:\n",
    "            idd = i['id']\n",
    "            x_center = i['tick_pt'][\"x\"]\n",
    "            y_center = i['tick_pt'][\"y\"]\n",
    "            half_width = 8\n",
    "            piece_x0 = x_center-half_width\n",
    "            piece_x1 = x_center+half_width\n",
    "\n",
    "    # crop_picture\n",
    "            chart_peace = img.crop(box=(piece_x0,chart_y0,piece_x1,chart_y1))\n",
    "            #chart_peace = chart_peace.resize((half_width*2, half_width*16))\n",
    "\n",
    "    # get_label\n",
    "            for textt in this_annotation['text']:\n",
    "                if textt['id']==idd:\n",
    "                    x_text = textt['text']\n",
    "                    break\n",
    "            for series in this_annotation['data-series']:\n",
    "                if series['x']==x_text:\n",
    "                    this_data = series['y']\n",
    "                    break\n",
    "\n",
    "        # save_picture\n",
    "            name = f\"{idx.split('.')[0]}_{idd}\"\n",
    "            if 1<=this_data<=12:\n",
    "                chart_peace.save(f\"./dataset/{this_data}/{name}.jpg\")\n",
    "            else:\n",
    "                chart_peace.save(f\"./dataset/13_and_more/{name}.jpg\")\n",
    "        \n",
    "    except:\n",
    "        print(idx)\n",
    "    \n",
    " "
   ]
  },
  {
   "cell_type": "code",
   "execution_count": null,
   "id": "be08c637-74a9-4097-82a6-a7eb7b411776",
   "metadata": {},
   "outputs": [],
   "source": []
  }
 ],
 "metadata": {
  "kernelspec": {
   "display_name": "Python 3 (ipykernel)",
   "language": "python",
   "name": "python3"
  },
  "language_info": {
   "codemirror_mode": {
    "name": "ipython",
    "version": 3
   },
   "file_extension": ".py",
   "mimetype": "text/x-python",
   "name": "python",
   "nbconvert_exporter": "python",
   "pygments_lexer": "ipython3",
   "version": "3.9.16"
  }
 },
 "nbformat": 4,
 "nbformat_minor": 5
}

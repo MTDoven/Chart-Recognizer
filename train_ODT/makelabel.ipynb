{
 "cells": [
  {
   "cell_type": "code",
   "execution_count": 13,
   "id": "bb133069-dc60-488d-81ce-73b46a3ca7ad",
   "metadata": {
    "tags": []
   },
   "outputs": [],
   "source": [
    "import os\n",
    "_,_,filenames = next(os.walk(\"./labels/\"))"
   ]
  },
  {
   "cell_type": "code",
   "execution_count": 14,
   "id": "9e7cea59-3bf5-4808-aee7-92612eca6776",
   "metadata": {
    "tags": []
   },
   "outputs": [],
   "source": [
    "for filename in filenames:\n",
    "    with open(\"./labels/\"+filename,'r') as f_read:\n",
    "        content = f_read.readlines()\n",
    "    new_content = []\n",
    "    for obj in content:\n",
    "        if obj.split(\" \")[0] in [\"9\",\"10\",\"11\",\"12\"]:\n",
    "            continue\n",
    "        elif obj.split(\" \")[0]==\"13\":\n",
    "            new_content.append(\"9\"+obj[2:])\n",
    "        else:\n",
    "            new_content.append(obj)\n",
    "    with open(\"./new_labels/\"+filename,'w') as f_write:\n",
    "        f_write.writelines(new_content)\n"
   ]
  },
  {
   "cell_type": "code",
   "execution_count": 35,
   "id": "3ebb4264-817f-47eb-949c-bcdfc58388f6",
   "metadata": {
    "tags": []
   },
   "outputs": [],
   "source": [
    "_,_,filenames = next(os.walk(\"./images/\"))\n",
    "filenames.sort()"
   ]
  },
  {
   "cell_type": "code",
   "execution_count": 36,
   "id": "847c8cf1-36ed-40ce-80f6-614c85285687",
   "metadata": {
    "tags": []
   },
   "outputs": [],
   "source": [
    "new_list = []\n",
    "for filename in filenames[:59563]:\n",
    "    new_list.append(rf\"C:\\Users\\t1526\\Desktop\\kaggle\\working\\train_ODT\\images\\{filename}\"+\"\\n\")\n",
    "with open(\"./train.txt\",'w') as f_write:\n",
    "    f_write.writelines(new_list)"
   ]
  },
  {
   "cell_type": "code",
   "execution_count": 38,
   "id": "831ca5bc-9d8b-4241-8081-ed1c6f604908",
   "metadata": {
    "tags": []
   },
   "outputs": [],
   "source": [
    "new_list = []\n",
    "for filename in filenames[59563:]:\n",
    "    new_list.append(rf\"C:\\Users\\t1526\\Desktop\\kaggle\\working\\train_ODT\\images\\{filename}\"+\"\\n\")\n",
    "with open(\"./val.txt\",'w') as f_write:\n",
    "    f_write.writelines(new_list)"
   ]
  }
 ],
 "metadata": {
  "kernelspec": {
   "display_name": "Python 3 (ipykernel)",
   "language": "python",
   "name": "python3"
  },
  "language_info": {
   "codemirror_mode": {
    "name": "ipython",
    "version": 3
   },
   "file_extension": ".py",
   "mimetype": "text/x-python",
   "name": "python",
   "nbconvert_exporter": "python",
   "pygments_lexer": "ipython3",
   "version": "3.7.16"
  }
 },
 "nbformat": 4,
 "nbformat_minor": 5
}
